{
  "nbformat": 4,
  "nbformat_minor": 0,
  "metadata": {
    "colab": {
      "provenance": [],
      "authorship_tag": "ABX9TyNxMetzWArlyVfn2nzBM5zn",
      "include_colab_link": true
    },
    "kernelspec": {
      "name": "python3",
      "display_name": "Python 3"
    },
    "language_info": {
      "name": "python"
    }
  },
  "cells": [
    {
      "cell_type": "markdown",
      "metadata": {
        "id": "view-in-github",
        "colab_type": "text"
      },
      "source": [
        "<a href=\"https://colab.research.google.com/github/khansharifpg/Python_learning_881/blob/main/week_02_python_Input_output.ipynb\" target=\"_parent\"><img src=\"https://colab.research.google.com/assets/colab-badge.svg\" alt=\"Open In Colab\"/></a>"
      ]
    },
    {
      "cell_type": "code",
      "execution_count": null,
      "metadata": {
        "id": "xsowCPa5zUpB",
        "colab": {
          "base_uri": "https://localhost:8080/"
        },
        "outputId": "b7a4c09e-b960-4c48-f975-c95d0e7c2f06"
      },
      "outputs": [
        {
          "output_type": "stream",
          "name": "stdout",
          "text": [
            "Enter your first name: khan\n",
            "Enter your last name: s\n",
            "Enter your age: 20\n",
            "Hi khan s, How are u?\n",
            " I am 20 years old\n"
          ]
        }
      ],
      "source": [
        "#start\n",
        "\n",
        "first_name = input (\"Enter your first name: \")\n",
        "\n",
        "last_name = input (\"Enter your last name: \")\n",
        "\n",
        "age = input (\"Enter your age: \")\n",
        "\n",
        "age_int = int (age)\n",
        "\n",
        "#full_name = first_name + \" \" + last_name\n",
        "\n",
        "#print (\"Hi {0} {1}, How are you? \" .format(first_name, last_name))\n",
        "\n",
        "\n",
        "print (\"Hi {0} {1}, How are u?\" .format(first_name, last_name ))\n",
        "\n",
        "print (\" I am {0} years old.\".format(str(age)))\n"
      ]
    },
    {
      "cell_type": "code",
      "source": [
        "print (\"Your details: \\n\")\n",
        "\n",
        "print (\"\\tName: \\\"John Smith\\\"\")\n",
        "print (\" \\tSN: \\\"2020300\\\"\")\n",
        "\n",
        "print( \"\\tEnrolment Record: \")"
      ],
      "metadata": {
        "id": "zgOpjhWQ36lj",
        "colab": {
          "base_uri": "https://localhost:8080/"
        },
        "outputId": "db81d81e-f6f6-473e-c2fc-139727190573"
      },
      "execution_count": null,
      "outputs": [
        {
          "output_type": "stream",
          "name": "stdout",
          "text": [
            "Your details: \n",
            "\n",
            "\tName: \"John Smith\"\n",
            " \tSN: \"2020300\"\n",
            "\tEnrolment Record: \n"
          ]
        }
      ]
    },
    {
      "cell_type": "code",
      "source": [
        "#String format with alignment\n",
        "print(\"Alkali metals:\")\n",
        "print()\n",
        "#print(\"{0:<15}{1:<10}{2:^25}{3:>15}\".format(\"Element\", \"Symbol\", \"Atomic number\", \"Atomic weight\"))\n",
        "\n",
        "print(\"{0:<15}{1:<10}{2:^25}{3:>15}\".format(\"Element\", \"Symbol\", \"Atomic number\", \"Atomic weight\"))\n",
        "\n",
        "#Lithium Li 3 6.94\n",
        "\n",
        "#print(\"{0:<15}{1:<10}{2:^25}{3:>15.0f}\".format(\"Lithium\", \"Li\", 3, 6.94))\n",
        "print(\"{0:<15}{1:<10}{2:^25}{3:>15.3f}\".format(\"Lithium\", \"Li\", 3, 6.94))\n"
      ],
      "metadata": {
        "colab": {
          "base_uri": "https://localhost:8080/"
        },
        "id": "hRN6wr6pvlB9",
        "outputId": "b5cf3f67-4f06-46de-9467-321a24afcc2b"
      },
      "execution_count": 26,
      "outputs": [
        {
          "output_type": "stream",
          "name": "stdout",
          "text": [
            "Alkali metals:\n",
            "\n",
            "Element        Symbol          Atomic number        Atomic weight\n",
            "Lithium        Li                    3                      6.940\n"
          ]
        }
      ]
    },
    {
      "cell_type": "code",
      "source": [
        "print(\"{0} x {1} = {2}\".format(1, 5, 1*5))\n",
        "print(\"{0} x {1} = {2}\".format(2, 5, 2*5))"
      ],
      "metadata": {
        "colab": {
          "base_uri": "https://localhost:8080/"
        },
        "id": "B08xJPbf1aN3",
        "outputId": "6bde4273-bbc9-4834-88da-44aec8da832d"
      },
      "execution_count": 28,
      "outputs": [
        {
          "output_type": "stream",
          "name": "stdout",
          "text": [
            "1 x 5 = 5\n",
            "2 x 5 = 10\n"
          ]
        }
      ]
    }
  ]
}