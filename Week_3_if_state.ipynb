{
  "nbformat": 4,
  "nbformat_minor": 0,
  "metadata": {
    "colab": {
      "provenance": [],
      "authorship_tag": "ABX9TyO0bWxlkdMeLyI42YNgQ0Be",
      "include_colab_link": true
    },
    "kernelspec": {
      "name": "python3",
      "display_name": "Python 3"
    },
    "language_info": {
      "name": "python"
    }
  },
  "cells": [
    {
      "cell_type": "markdown",
      "metadata": {
        "id": "view-in-github",
        "colab_type": "text"
      },
      "source": [
        "<a href=\"https://colab.research.google.com/github/khansharifpg/Python_learning_881/blob/main/Week_3_if_state.ipynb\" target=\"_parent\"><img src=\"https://colab.research.google.com/assets/colab-badge.svg\" alt=\"Open In Colab\"/></a>"
      ]
    },
    {
      "cell_type": "code",
      "execution_count": null,
      "metadata": {
        "id": "Srnaxi_1dWlx"
      },
      "outputs": [],
      "source": [
        "#start\n",
        "print(\"Choose a language: (I)talian (W)elsh (Z)ulu\")\n",
        "language_option = input(\"Enter language selection: \")\n"
      ]
    },
    {
      "cell_type": "code",
      "source": [
        "#if - else (Double-selection statement if-else)\n",
        "#ask user to input\n",
        "\n",
        "user_input = input (\"Enter number of items: \")\n",
        "item_count = int (user_input)\n",
        "\n",
        "#if statement\n",
        "\n",
        "if (item_count <=50 ):\n",
        "  unit_price = 3\n",
        "  postage_cost = 10\n",
        "\n",
        "  total_cost = unit_price * item_count + postage_cost\n",
        "  print(\"The total cost is ${0}.\".format(total_cost))\n",
        "\n",
        "else:\n",
        "  unit_price = 3\n",
        "  total_cost = unit_price * item_count\n",
        "  print(\"The total cost is ${0}\".format (total_cost))\n"
      ],
      "metadata": {
        "colab": {
          "base_uri": "https://localhost:8080/"
        },
        "id": "F6UoTYKMfm9P",
        "outputId": "5175bc99-36c2-4026-f8aa-06cff0af83c7"
      },
      "execution_count": 10,
      "outputs": [
        {
          "output_type": "stream",
          "name": "stdout",
          "text": [
            "Enter number of items: 100\n",
            "The total cost is $300\n"
          ]
        }
      ]
    }
  ]
}