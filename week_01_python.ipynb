{
  "cells": [
    {
      "cell_type": "markdown",
      "metadata": {
        "id": "view-in-github",
        "colab_type": "text"
      },
      "source": [
        "<a href=\"https://colab.research.google.com/github/khansharifpg/Python_learning_881/blob/main/week_01_python.ipynb\" target=\"_parent\"><img src=\"https://colab.research.google.com/assets/colab-badge.svg\" alt=\"Open In Colab\"/></a>"
      ]
    },
    {
      "cell_type": "code",
      "execution_count": null,
      "metadata": {
        "colab": {
          "base_uri": "https://localhost:8080/"
        },
        "id": "m0mBS3-i1Msd",
        "outputId": "2ffde168-e0bf-4983-d0f6-9c16d04913f5"
      },
      "outputs": [
        {
          "output_type": "stream",
          "name": "stdout",
          "text": [
            "Mr. Sharif Khan\n"
          ]
        }
      ],
      "source": [
        "# Learning python\n",
        "\n",
        "first_name =\"Sharif\"\n",
        "last_name ='Khan'\n",
        "full_name = \"Mr. \" + first_name + \" \" + last_name\n",
        "\n",
        "print(full_name);"
      ]
    },
    {
      "cell_type": "code",
      "source": [],
      "metadata": {
        "id": "q2bzyQrFBmkc"
      },
      "execution_count": null,
      "outputs": []
    },
    {
      "cell_type": "code",
      "source": [
        "#using Data types:\n",
        "# Int  ( int: an integer, a whole number)\n",
        "\n",
        "age = 20.2;\n",
        "print(age)"
      ],
      "metadata": {
        "colab": {
          "base_uri": "https://localhost:8080/"
        },
        "id": "7QIrRN_p_sIg",
        "outputId": "dda8e8c3-b5bd-4684-d815-d4d6e9b589b3"
      },
      "execution_count": null,
      "outputs": [
        {
          "output_type": "stream",
          "name": "stdout",
          "text": [
            "20.2\n"
          ]
        }
      ]
    },
    {
      "cell_type": "code",
      "source": [
        "#float: a decimal number\n",
        "interest_rate = 5.2;\n",
        "print(interest_rate)\n"
      ],
      "metadata": {
        "colab": {
          "base_uri": "https://localhost:8080/"
        },
        "id": "iJSIW_xpApoF",
        "outputId": "0cff04d1-6dda-4800-ccaa-32fbd00815b5"
      },
      "execution_count": null,
      "outputs": [
        {
          "output_type": "stream",
          "name": "stdout",
          "text": [
            "5.2\n"
          ]
        }
      ]
    },
    {
      "cell_type": "code",
      "source": [
        "#bool: a boolean value is either True or False.\n",
        "\n",
        "scan_completed = True\n",
        "virus_found = False\n",
        "print (scan_completed)"
      ],
      "metadata": {
        "colab": {
          "base_uri": "https://localhost:8080/"
        },
        "id": "Gg8GdLv5A-IT",
        "outputId": "d3498c2d-dfc7-4474-f12e-5660a153aa38"
      },
      "execution_count": null,
      "outputs": [
        {
          "output_type": "stream",
          "name": "stdout",
          "text": [
            "True\n"
          ]
        }
      ]
    },
    {
      "cell_type": "code",
      "source": [
        "#Variables & Data types\n",
        "first_name=\"Sharif\"\n",
        "last_name='Khan'\n",
        "virus_found = False\n",
        "interest_rate = 5.3\n",
        "age=20;\n",
        "\n",
        "print(type(interest_rate));"
      ],
      "metadata": {
        "colab": {
          "base_uri": "https://localhost:8080/"
        },
        "id": "m-KImQPdBn2_",
        "outputId": "c28d6292-e630-43da-ff82-3828638a3cbf"
      },
      "execution_count": null,
      "outputs": [
        {
          "output_type": "stream",
          "name": "stdout",
          "text": [
            "<class 'float'>\n"
          ]
        }
      ]
    },
    {
      "cell_type": "code",
      "source": [
        "unit_price =10.5\n",
        "quantity =12\n",
        "\n",
        "cost =  unit_price * quantity\n",
        "mobile_number = \"0493689355\"\n",
        "student_number = \"8030686BNN\"\n",
        "\n",
        "#String addition (concatenation)\n",
        "first_name = \"Khan\"\n",
        "last_name = 'Don'\n",
        "full_name = first_name + \" \" +last_name\n",
        "\n",
        "#String multiplication (with number)!\n",
        "silly1 = \"frog\"  \" \" *7\n",
        "silly2 = 5 * '' \"I am Sam,\"\n",
        "\n",
        "#Get input from the user\n",
        "first_name = input (\"Enter your first name: \")\n",
        "last_name = input (\"Enter Your Last name: \")\n",
        "\n",
        "full_name = first_name + \" \" + last_name\n",
        "\n",
        "print (full_name)\n",
        "\n"
      ],
      "metadata": {
        "colab": {
          "base_uri": "https://localhost:8080/"
        },
        "id": "NOhlJyfiCq-_",
        "outputId": "14a67df9-c09d-4670-ad7c-65c075871c54"
      },
      "execution_count": null,
      "outputs": [
        {
          "output_type": "stream",
          "name": "stdout",
          "text": [
            "Enter your first name: ff\n",
            "Enter Your Last name: ww\n",
            "ff ww\n"
          ]
        }
      ]
    },
    {
      "cell_type": "code",
      "source": [
        "subject1 = input (\"Enter your first Subject code: \")\n",
        "subject2 = input (\"Enter your second Subject code: \")\n",
        "subject3 = input (\"Enter your third Subject code: \")\n",
        "\n",
        "all_subject = subject1 + ', ' + subject2 + ', ' + subject3;\n",
        "\n",
        "print(\"You have chosen \" + all_subject + '.')"
      ],
      "metadata": {
        "colab": {
          "base_uri": "https://localhost:8080/"
        },
        "id": "Ioh4v7DONlhI",
        "outputId": "58f7948a-9e89-4a0a-93fc-74c688cd2b1f"
      },
      "execution_count": null,
      "outputs": [
        {
          "output_type": "stream",
          "name": "stdout",
          "text": [
            "Enter your first Subject code: 33\n",
            "Enter your second Subject code: rr\n",
            "Enter your third Subject code: 33\n",
            "You have chosen 33, rr, 33.\n"
          ]
        }
      ]
    },
    {
      "cell_type": "code",
      "source": [
        "#Convert number into string\n",
        "\n",
        "fav_number = 7\n",
        "\n",
        "print (\"My favorite number is\" +\" \" + str(fav_number))"
      ],
      "metadata": {
        "colab": {
          "base_uri": "https://localhost:8080/"
        },
        "id": "e9aHS8gqPFyy",
        "outputId": "aa62a5a7-78b4-40d4-b9d3-864368c7a9b2"
      },
      "execution_count": null,
      "outputs": [
        {
          "output_type": "stream",
          "name": "stdout",
          "text": [
            "My favorite number is 7\n"
          ]
        }
      ]
    },
    {
      "cell_type": "code",
      "source": [
        "#Convert string into number\n",
        "\n",
        "user_input1 = input (\"Enter your 1st integer number: \")\n",
        "input_1 = int (user_input1)\n",
        "user_input2 = input (\"Enter your 2nd integer number: \")\n",
        "input_2 = int(user_input2)\n",
        "\n",
        "number_sum = input_1 + input_2\n",
        "\n",
        "print (\"The sum of \"\n",
        "       + str(input_1)\n",
        "       + \" and \"\n",
        "       + str(input_2)\n",
        "       + \" is \"\n",
        "       + str(number_sum))"
      ],
      "metadata": {
        "colab": {
          "base_uri": "https://localhost:8080/"
        },
        "id": "jrS_6iT5QBLl",
        "outputId": "8649e4ae-3e85-4b20-86e8-7c0884138b16"
      },
      "execution_count": null,
      "outputs": [
        {
          "output_type": "stream",
          "name": "stdout",
          "text": [
            "Enter your 1st integer number: 2\n",
            "Enter your 2nd integer number: 2\n",
            "The sum of 2 and 2 is 4\n"
          ]
        }
      ]
    },
    {
      "cell_type": "code",
      "source": [
        "#Convert string into decimal number\n",
        "user_input1 = input (\"Enter 1st float number: \")\n",
        "number_1 = float (user_input1)\n",
        "\n",
        "user_input2 = input (\"Enter 2nd float number: \")\n",
        "number_2 = float (user_input2)\n",
        "\n",
        "total_sum = number_1 + number_2\n",
        "\n",
        "print(\"The sum of \"\n",
        "      + str(number_1)\n",
        "      + \" and \"\n",
        "      + str(number_2) + \" is \"\n",
        "\n",
        "      + str(total_sum) + \".\")\n"
      ],
      "metadata": {
        "colab": {
          "base_uri": "https://localhost:8080/"
        },
        "id": "b4tyYo-CTMH5",
        "outputId": "92173a68-42e2-40de-f4e5-aba36004b3b5"
      },
      "execution_count": null,
      "outputs": [
        {
          "output_type": "stream",
          "name": "stdout",
          "text": [
            "Enter 1st float number: 22\n",
            "Enter 2nd float number: 22\n",
            "The sum of 22.0 and 22.0 is 44.0.\n"
          ]
        }
      ]
    },
    {
      "cell_type": "code",
      "source": [
        "#Get input from the user\n",
        "#If the information we need from the user is a string, then we just need one line of code:\n"
      ],
      "metadata": {
        "id": "-msJUfCUaVKC"
      },
      "execution_count": null,
      "outputs": []
    }
  ],
  "metadata": {
    "colab": {
      "provenance": [],
      "authorship_tag": "ABX9TyPFGCqfqqpO4D6ce07jG/dc",
      "include_colab_link": true
    },
    "kernelspec": {
      "display_name": "Python 3",
      "name": "python3"
    },
    "language_info": {
      "name": "python"
    }
  },
  "nbformat": 4,
  "nbformat_minor": 0
}